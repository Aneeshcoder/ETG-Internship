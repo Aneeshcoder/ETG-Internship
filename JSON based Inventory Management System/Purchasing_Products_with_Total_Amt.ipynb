{
  "nbformat": 4,
  "nbformat_minor": 0,
  "metadata": {
    "colab": {
      "name": "Purchasing_Products.ipynb",
      "provenance": [],
      "collapsed_sections": []
    },
    "kernelspec": {
      "name": "python3",
      "display_name": "Python 3"
    },
    "language_info": {
      "name": "python"
    }
  },
  "cells": [
    {
      "cell_type": "markdown",
      "metadata": {
        "id": "0VHppDDFMt4j"
      },
      "source": [
        "#Purchasing Products"
      ]
    },
    {
      "cell_type": "code",
      "metadata": {
        "id": "51_9Htc_8oN6"
      },
      "source": [
        "import json"
      ],
      "execution_count": 1,
      "outputs": []
    },
    {
      "cell_type": "code",
      "metadata": {
        "colab": {
          "base_uri": "https://localhost:8080/"
        },
        "id": "mxF5qEwh9E_t",
        "outputId": "19cb53db-e1ab-49dc-cb65-4245ee57c0fa"
      },
      "source": [
        "fd = open(\"record.json\",'r')\n",
        "r = fd.read()\n",
        "fd.close()\n",
        "\n",
        "fs = open(\"sales.json\",'r')\n",
        "s = fs.read()\n",
        "fd.close()\n",
        "\n",
        "records = json.loads(r)\n",
        "sales = json.loads(s)\n",
        "\n",
        "ui_prod  = str(input(\"Enter the product_Id: \"))\n",
        "\n",
        "if ui_prod in records.keys():\n",
        "  ui_quant = int(input(\"Enter the quantity: \"))\n",
        "  if records[ui_prod]['qn']>=ui_quant:\n",
        "    print(\"Product: \", records[ui_prod]['name'])\n",
        "    print(\"Price: \", records[ui_prod]['pr'])\n",
        "    print(\"Billing Amount: \", records[ui_prod]['pr'] * ui_quant)\n",
        "    records[ui_prod]['qn'] = records[ui_prod]['qn'] - ui_quant\n",
        "    ui_name = records[ui_prod]['name']\n",
        "    if ui_name in sales.keys():\n",
        "      sales[ui_name]['qn']=+ui_quant\n",
        "      sales[ui_name]['amount']=+records[ui_prod]['pr']*ui_quant\n",
        "    else:\n",
        "      sales[ui_name] = {'qn':ui_quant,'amount':records[ui_prod]['pr']*ui_quant}\n",
        "  else:\n",
        "    print(\"This much Quantity is not available !\")\n",
        "else: \n",
        "  print(\"Product Not Available !\")"
      ],
      "execution_count": 2,
      "outputs": [
        {
          "output_type": "stream",
          "name": "stdout",
          "text": [
            "Enter the product_Id: 100\n",
            "Product Not Available !\n"
          ]
        }
      ]
    },
    {
      "cell_type": "code",
      "metadata": {
        "id": "9nkRAA8FCrLQ"
      },
      "source": [
        "js = json.dumps(records)\n",
        "jsale = json.dumps(sales)\n",
        "\n",
        "fd = open(\"record.json\",'w')\n",
        "fd.write(js)\n",
        "fd.close()\n",
        "\n",
        "fs = open(\"sales.json\",'w')\n",
        "fs.write(jsale)\n",
        "fs.close()"
      ],
      "execution_count": 3,
      "outputs": []
    },
    {
      "cell_type": "code",
      "metadata": {
        "colab": {
          "base_uri": "https://localhost:8080/"
        },
        "id": "a3ciNZSxMPS1",
        "outputId": "1ed0866c-6b7b-43bc-b1a4-94614309d742"
      },
      "source": [
        "sales"
      ],
      "execution_count": 4,
      "outputs": [
        {
          "output_type": "execute_result",
          "data": {
            "text/plain": [
              "{'Cheese': {'amount': 1190, 'qn': 34},\n",
              " 'Choco Cake': {'amount': 100, 'qn': 1},\n",
              " 'Jam': {'amount': 1000, 'qn': 20},\n",
              " 'Lays': {'amount': 320, 'qn': 16},\n",
              " 'Milk Cake': {'amount': 16000, 'qn': 20},\n",
              " 'Pen': {'amount': 240, 'qn': 12},\n",
              " 'Pepper': {'amount': 6000, 'qn': 50},\n",
              " 'Ruler': {'amount': 110, 'qn': 22},\n",
              " 'Sweets': {'amount': 4500, 'qn': 15},\n",
              " 'Telephone': {'amount': 320000, 'qn': 64}}"
            ]
          },
          "metadata": {},
          "execution_count": 4
        }
      ]
    },
    {
      "cell_type": "code",
      "metadata": {
        "colab": {
          "base_uri": "https://localhost:8080/"
        },
        "id": "PximWMLulqXs",
        "outputId": "0991673a-dca6-4075-a1c3-68a0277b4f58"
      },
      "source": [
        "amount = sum(x['amount'] for x in sales.values())\n",
        "print(\"Total Amount to be paid is \",amount)\n",
        "\n",
        "quantity = sum(x['qn'] for x in sales.values())\n",
        "print(\"Total Quantity purchased is \",quantity)"
      ],
      "execution_count": 11,
      "outputs": [
        {
          "output_type": "stream",
          "name": "stdout",
          "text": [
            "Total Amount to be paid is  349460\n",
            "Total Quantity purchased is  254\n"
          ]
        }
      ]
    }
  ]
}