{
  "nbformat": 4,
  "nbformat_minor": 0,
  "metadata": {
    "colab": {
      "name": "Adding_New_Products.ipynb",
      "provenance": [],
      "collapsed_sections": []
    },
    "kernelspec": {
      "name": "python3",
      "display_name": "Python 3"
    },
    "language_info": {
      "name": "python"
    }
  },
  "cells": [
    {
      "cell_type": "markdown",
      "metadata": {
        "id": "gtdECZEj6MPD"
      },
      "source": [
        "#Adding New Products"
      ]
    },
    {
      "cell_type": "code",
      "metadata": {
        "id": "BwzdoNCFyRE_"
      },
      "source": [
        "import json"
      ],
      "execution_count": 107,
      "outputs": []
    },
    {
      "cell_type": "code",
      "metadata": {
        "id": "_Lk1d4h55RUq",
        "colab": {
          "base_uri": "https://localhost:8080/"
        },
        "outputId": "3aff3464-2a7f-4cb3-82ff-01f049cd58a0"
      },
      "source": [
        "fd = open(\"record.json\",'r')\n",
        "r = fd.read()\n",
        "fd.close()\n",
        "\n",
        "record = json.loads(r)\n",
        "\n",
        "prod_id = str(input(\"Enter the prod ID: \"))\n",
        "\n",
        "if prod_id in record.keys():\n",
        "  qn = int(input(\"Enter the prod quantity: \")) #quantity\n",
        "  record[prod_id]['qn']+=qn\n",
        "\n",
        "else:\n",
        "  name = str(input(\"Enter the prod name: \"))\n",
        "  pr = int(input(\"Enter the prod price: \")) #price\n",
        "  qn = int(input(\"Enter the prod quantity: \")) #quantity\n",
        "  record[prod_id] = {'name':name,'pr':pr,'qn':qn}\n",
        "\n",
        "js = json.dumps(record)\n",
        "fd = open(\"record.json\",'w')\n",
        "fd.write(js)\n",
        "fd.close()"
      ],
      "execution_count": 112,
      "outputs": [
        {
          "name": "stdout",
          "output_type": "stream",
          "text": [
            "Enter the prod ID: 1001\n",
            "Enter the prod quantity: 1\n"
          ]
        }
      ]
    },
    {
      "cell_type": "code",
      "metadata": {
        "colab": {
          "base_uri": "https://localhost:8080/"
        },
        "id": "LosK8fLG6bPk",
        "outputId": "c82d68e1-c233-45d8-d248-2a8a9ecd2f00"
      },
      "source": [
        "fd = open(\"record.json\",'r')\n",
        "r = fd.read()\n",
        "fd.close()\n",
        "\n",
        "record = json.loads(r)\n",
        "record"
      ],
      "execution_count": 113,
      "outputs": [
        {
          "output_type": "execute_result",
          "data": {
            "text/plain": [
              "{'1001': {'name': 'Choco Cake', 'pr': 100, 'qn': 35},\n",
              " '1002': {'name': 'Milk Cake', 'pr': 800, 'qn': 100},\n",
              " '1003': {'name': 'Drink', 'pr': 85, 'qn': 100},\n",
              " '1004': {'name': 'Candy', 'pr': 5, 'qn': 1000},\n",
              " '1005': {'name': 'Pen', 'pr': 20, 'qn': 100},\n",
              " '1006': {'name': 'Phone', 'pr': 50000, 'qn': 10},\n",
              " '1007': {'name': 'Mic', 'pr': 1500, 'qn': 0},\n",
              " '1008': {'name': 'Case', 'pr': 599, 'qn': 5},\n",
              " '1009': {'name': 'Keyboard', 'pr': 1999, 'qn': 10},\n",
              " '1010': {'name': 'Lays', 'pr': 20, 'qn': 150},\n",
              " '1011': {'name': 'Can', 'pr': 50, 'qn': 99},\n",
              " '1012': {'name': 'Jug', 'pr': 150, 'qn': 200},\n",
              " '1013': {'name': 'Chicken', 'pr': 500, 'qn': 60},\n",
              " '1014': {'name': 'Chewinggum', 'pr': 5, 'qn': 500},\n",
              " '1015': {'name': 'Pepper', 'pr': 120, 'qn': 160},\n",
              " '1016': {'name': 'Telephone', 'pr': 5000, 'qn': 200},\n",
              " '1017': {'name': 'Pot', 'pr': 90, 'qn': 230},\n",
              " '1018': {'name': 'Ring', 'pr': 100000, 'qn': 20},\n",
              " '1019': {'name': 'Spoon', 'pr': 60, 'qn': 100},\n",
              " '1020': {'name': 'Sweets', 'pr': 300, 'qn': 600},\n",
              " '1021': {'name': 'Fruit', 'pr': 400, 'qn': 150},\n",
              " '1022': {'name': 'Sauce', 'pr': 160, 'qn': 150},\n",
              " '1023': {'name': 'Bottle', 'pr': 95, 'qn': 150},\n",
              " '1024': {'name': 'Jam', 'pr': 50, 'qn': 350},\n",
              " '1025': {'name': 'Cheese', 'pr': 35, 'qn': 121},\n",
              " '1026': {'name': 'Scissors', 'pr': 65, 'qn': 125},\n",
              " '1027': {'name': 'Notebook', 'pr': 35, 'qn': 250},\n",
              " '1028': {'name': 'Eraser', 'pr': 5, 'qn': 154},\n",
              " '1029': {'name': 'Pencil', 'pr': 2, 'qn': 1000},\n",
              " '1030': {'name': 'Ruler', 'pr': 5, 'qn': 290},\n",
              " '1031': {'name': 'Paper Clip', 'pr': 2, 'qn': 1000}}"
            ]
          },
          "metadata": {},
          "execution_count": 113
        }
      ]
    }
  ]
}